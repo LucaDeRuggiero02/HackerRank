{
  "nbformat": 4,
  "nbformat_minor": 0,
  "metadata": {
    "colab": {
      "provenance": []
    },
    "kernelspec": {
      "name": "python3",
      "display_name": "Python 3"
    },
    "language_info": {
      "name": "python"
    }
  },
  "cells": [
    {
      "cell_type": "code",
      "execution_count": null,
      "metadata": {
        "id": "jtr7ruzpoV9l"
      },
      "outputs": [],
      "source": [
        "#Say \"Hello, World!\" With Python\n",
        "\n",
        "if __name__ == '__main__':\n",
        "    print(\"Hello, World!\")"
      ]
    },
    {
      "cell_type": "code",
      "source": [
        "#Python If-Else\n",
        "\n",
        "if __name__ == '__main__':\n",
        "    n = int(input().strip())\n",
        "if n % 2 == 1:\n",
        "    print(\"Weird\")\n",
        "elif n % 2 == 0 and 2<=n<=5:\n",
        "    print(\"Not Weird\")\n",
        "elif n % 2 == 0 and 6<=n<=20:\n",
        "    print(\"Weird\")\n",
        "elif n % 2 == 0 and n>20:\n",
        "    print(\"Not Weird”)\n"
      ],
      "metadata": {
        "id": "aB7hTWrIoeD8"
      },
      "execution_count": null,
      "outputs": []
    },
    {
      "cell_type": "code",
      "source": [
        "#Arithmetic Operators\n",
        "\n",
        "if __name__ == '__main__':\n",
        "    a = int(input())\n",
        "    b = int(input())\n",
        "    print(a+b)\n",
        "    print(a-b)\n",
        "    print(a*b)"
      ],
      "metadata": {
        "id": "EkHmctTXof6m"
      },
      "execution_count": null,
      "outputs": []
    },
    {
      "cell_type": "code",
      "source": [
        "# Python: Division\n",
        "\n",
        "if __name__ == '__main__':\n",
        "    a = int(input())\n",
        "    b = int(input())\n",
        "    print(a//b)\n",
        "    print(a/b)\n"
      ],
      "metadata": {
        "id": "9_vJruTeoySy"
      },
      "execution_count": null,
      "outputs": []
    },
    {
      "cell_type": "code",
      "source": [
        "#Loops\n",
        "\n",
        "if __name__ == '__main__':\n",
        "    n = int(input())\n",
        "    i = 0\n",
        "    while i < n:\n",
        "        print(i**2)\n",
        "        i += 1"
      ],
      "metadata": {
        "id": "xNRmSAf7ozxU"
      },
      "execution_count": null,
      "outputs": []
    },
    {
      "cell_type": "code",
      "source": [
        "#Write a function\n",
        "\n",
        "def is_leap(year):\n",
        "    leap = False\n",
        "\n",
        "    # Write your logic here\n",
        "    if year % 4 == 0:\n",
        "        leap = True\n",
        "    if year % 100 == 0:\n",
        "        leap = False\n",
        "    if year % 400 == 0:\n",
        "        leap = True\n",
        "\n",
        "    return leap\n"
      ],
      "metadata": {
        "id": "Q0C3rNLTpSof"
      },
      "execution_count": null,
      "outputs": []
    },
    {
      "cell_type": "code",
      "source": [
        "#Print Function\n",
        "\n",
        "if __name__ == '__main__':\n",
        "    n = int(input())\n",
        "    for i in range(1,n+1):\n",
        "        print(i, end = \"\")"
      ],
      "metadata": {
        "id": "gce0cmMKpinI"
      },
      "execution_count": null,
      "outputs": []
    },
    {
      "cell_type": "code",
      "source": [
        "#List Comprehensions\n",
        "\n",
        "if __name__ == '__main__':\n",
        "    x = int(input())\n",
        "    y = int(input())\n",
        "    z = int(input())\n",
        "    n = int(input())\n",
        "res = [[i,j,k] for i in range(x+1) for j in range(y+1) for k in range(z+1) if i + j + k != n]\n",
        "\n",
        "print(res)"
      ],
      "metadata": {
        "id": "PxDSEc23pjad"
      },
      "execution_count": null,
      "outputs": []
    },
    {
      "cell_type": "code",
      "source": [
        "#Find the Runner-Up Score!\n",
        "\n",
        "if __name__ == '__main__':\n",
        "    n = int(input())\n",
        "    arr = map(int, input().split())\n",
        "    arr_sorted = sorted(set(arr), reverse = True)\n",
        "    print(arr_sorted[1])"
      ],
      "metadata": {
        "id": "FE8InAAHpnPw"
      },
      "execution_count": null,
      "outputs": []
    },
    {
      "cell_type": "code",
      "source": [
        "#Nested Lists\n",
        "\n",
        "if __name__ == '__main__':\n",
        "    names = []\n",
        "    for _ in range(int(input())):\n",
        "        name = input()\n",
        "        score = float(input())\n",
        "        names.append([name, score])\n",
        "    scores = sorted(set([i[1] for i in names]))\n",
        "    second_lowest_score = scores[1]\n",
        "    name_snd_lst_score = [i[0] for i in names if i[1] == second_lowest_score]\n",
        "\n",
        "    name_snd_lst_score.sort() #aplhabetically\n",
        "\n",
        "    for j in name_snd_lst_score:\n",
        "        print(j)\n"
      ],
      "metadata": {
        "id": "X9qb2KcYpsVR"
      },
      "execution_count": null,
      "outputs": []
    },
    {
      "cell_type": "code",
      "source": [
        "#Finding the percentage\n",
        "\n",
        "if __name__ == '__main__':\n",
        "    n = int(input())\n",
        "    student_marks = {}\n",
        "    for _ in range(n):\n",
        "        name, *line = input().split()\n",
        "        scores = list(map(float, line))\n",
        "        student_marks[name] = scores\n",
        "    query_name = input()\n",
        "\n",
        "\n",
        "def average(x):\n",
        "    return sum(x)/len(x)\n",
        "\n",
        "voti = student_marks[query_name]\n",
        "media_voti = average(voti)"
      ],
      "metadata": {
        "id": "CW03I_QApw6I"
      },
      "execution_count": null,
      "outputs": []
    },
    {
      "cell_type": "code",
      "source": [
        "#Lists\n",
        "\n",
        "if __name__ == '__main__':\n",
        "    N = int(input())\n",
        "    lista = []\n",
        "    for e in range(N):\n",
        "        command = input().split()\n",
        "        if command[0] == \"insert\":\n",
        "            lista.insert(int(command[1]), int(command[2]))\n",
        "        elif command[0] == \"print\":\n",
        "            print(lista)\n",
        "        elif command[0] == \"remove\":\n",
        "            lista.remove(int(command[1]))\n",
        "        elif command[0] == \"append\":\n",
        "            lista.append(int(command[1]))\n",
        "        elif command[0] == \"sort\":\n",
        "            lista.sort()\n",
        "        elif command[0] == \"pop\":\n",
        "            lista.pop()\n",
        "        elif command[0] == \"reverse\":\n",
        "            lista.reverse()\n"
      ],
      "metadata": {
        "id": "Aq4Eyl0hp1pV"
      },
      "execution_count": null,
      "outputs": []
    },
    {
      "cell_type": "code",
      "source": [
        "#Tuples\n",
        "\n",
        "if __name__ == '__main__':\n",
        "    n = int(input())\n",
        "    integer_list = map(int, input().split())\n",
        "\n",
        "    t = tuple(integer_list)\n",
        "    print(hash(t))"
      ],
      "metadata": {
        "id": "vhnTX0PXp7na"
      },
      "execution_count": null,
      "outputs": []
    },
    {
      "cell_type": "code",
      "source": [
        "#sWAP cASE\n",
        "\n",
        "def swap_case(s):\n",
        "    new_string = \"\"\n",
        "    for i in s:\n",
        "        if i.islower():\n",
        "            new_string += i.upper()\n",
        "        elif i.isupper():\n",
        "            new_string += i.lower()\n",
        "        else:\n",
        "            new_string += i\n",
        "    return new_string\n"
      ],
      "metadata": {
        "id": "NtUfWJrRqCeo"
      },
      "execution_count": null,
      "outputs": []
    },
    {
      "cell_type": "code",
      "source": [
        "#String Split and Join\n",
        "\n",
        "def split_and_join(line):\n",
        "    a = line.split(\" \")\n",
        "    return(\"-\".join(a))\n",
        "\n",
        "if __name__ == '__main__':\n",
        "    line = input()\n",
        "    result = split_and_join(line)\n",
        "    print(result)\n"
      ],
      "metadata": {
        "id": "iFRGdVylqN9G"
      },
      "execution_count": null,
      "outputs": []
    },
    {
      "cell_type": "code",
      "source": [
        "#What's Your Name?\n",
        "\n",
        "# Complete the 'print_full_name' function below.\n",
        "#\n",
        "# The function is expected to return a STRING.\n",
        "# The function accepts following parameters:\n",
        "#  1. STRING first\n",
        "#  2. STRING last\n",
        "#\n",
        "\n",
        "def print_full_name(first, last):\n",
        "    print(f\"Hello {first} {last}! You just delved into python.\")"
      ],
      "metadata": {
        "id": "NXIjU3oyqV4h"
      },
      "execution_count": null,
      "outputs": []
    },
    {
      "cell_type": "code",
      "source": [
        "# Mutations\n",
        "\n",
        "def mutate_string(string, position, character):\n",
        "    l = list(string)\n",
        "    l[position] = character\n",
        "    string = ''.join(l)\n",
        "    return string\n",
        "\n"
      ],
      "metadata": {
        "id": "95mJ2Y7iqeWQ"
      },
      "execution_count": null,
      "outputs": []
    },
    {
      "cell_type": "code",
      "source": [
        "#Find a string\n",
        "\n",
        "def count_substring(string, sub_string):\n",
        "    n = 0\n",
        "    for i in range(len(string) - len(sub_string) + 1):\n",
        "        if string[i:i+len(sub_string)] == sub_string:\n",
        "            n += 1\n",
        "    return n\n"
      ],
      "metadata": {
        "id": "4EnvKW_Aqhod"
      },
      "execution_count": null,
      "outputs": []
    },
    {
      "cell_type": "code",
      "source": [
        "#String Validators\n",
        "\n",
        "if __name__ == '__main__':\n",
        "    s = input()\n",
        "    print(any(i.isalnum() for i in s))\n",
        "    print(any(i.isalpha() for i in s))\n",
        "    print(any(i.isdigit() for i in s))\n",
        "    print(any(i.islower() for i in s))\n",
        "    print(any(i.isupper() for i in s))"
      ],
      "metadata": {
        "id": "89K2Hs34ql9y"
      },
      "execution_count": null,
      "outputs": []
    },
    {
      "cell_type": "code",
      "source": [
        "#Text Wrap\n",
        "\n",
        "def wrap(string, max_width):\n",
        "    return textwrap.fill(string, max_width)\n"
      ],
      "metadata": {
        "id": "guP3lWJArJEt"
      },
      "execution_count": null,
      "outputs": []
    },
    {
      "cell_type": "code",
      "source": [
        "#String Formatting\n",
        "\n",
        "def print_formatted(number):\n",
        "    len_b = len(format(number,'b'))\n",
        "    for i in range(1, n+1):\n",
        "        print(str(i).rjust(len_b), format(i,'o').rjust(len_b), format(i,'X').rjust(len_b), format(i,'b').rjust(len_b))\n"
      ],
      "metadata": {
        "id": "T9E6DJs0rSA2"
      },
      "execution_count": null,
      "outputs": []
    },
    {
      "cell_type": "code",
      "source": [
        "#Capitalize!\n",
        "\n",
        "# Complete the solve function below.\n",
        "def solve(s):\n",
        "    a = s.split(' ')\n",
        "    s2=[]\n",
        "    for i in a:\n",
        "        s2.append(i.capitalize())\n",
        "    return ' '.join(s2)"
      ],
      "metadata": {
        "id": "SNIeQJ4Srd0v"
      },
      "execution_count": null,
      "outputs": []
    },
    {
      "cell_type": "code",
      "source": [
        "#Merge the Tools!\n",
        "\n",
        "def merge_the_tools(string, k):\n",
        "    import textwrap\n",
        "    lista = textwrap.wrap(string,k)\n",
        "    for x in lista:\n",
        "        result =[]\n",
        "        for i in x:\n",
        "            if i not in result:\n",
        "                result.append(i)\n",
        "        print(\"\".join(result))\n"
      ],
      "metadata": {
        "id": "YJlPKX6prkaT"
      },
      "execution_count": null,
      "outputs": []
    },
    {
      "cell_type": "code",
      "source": [
        "#Introduction to Sets\n",
        "\n",
        "def average(array):\n",
        "    array = set(array)\n",
        "    average = sum(array)/len(array)\n",
        "    return(format(average,'.3f'))"
      ],
      "metadata": {
        "id": "GRuuthWFrpgj"
      },
      "execution_count": null,
      "outputs": []
    },
    {
      "cell_type": "code",
      "source": [
        "#Symmetric Difference\n",
        "\n",
        "m = int(input())\n",
        "a = set(map(int,input().split()[:m]))\n",
        "n = int(input())\n",
        "b = set(map(int,input().split()[:n]))\n",
        "result = a ^ b\n",
        "for i in sorted(result):\n",
        "    print(i)\n"
      ],
      "metadata": {
        "id": "t9jmZCPPrtiD"
      },
      "execution_count": null,
      "outputs": []
    },
    {
      "cell_type": "code",
      "source": [
        "#No Idea!\n",
        "\n",
        "n, m  = map(int,input().split())\n",
        "arr = list(map(int,input().split()[:n]))\n",
        "a = set(map(int,input().split()[:m]))\n",
        "b = set(map(int,input().split()[:m]))\n",
        "\n",
        "happiness = 0\n",
        "for i in arr:\n",
        "    if i in a:\n",
        "        happiness += 1\n",
        "    elif i in b:\n",
        "        happiness -= 1\n",
        "\n",
        "print(happiness)"
      ],
      "metadata": {
        "id": "IGHxk0aUrx1E"
      },
      "execution_count": null,
      "outputs": []
    },
    {
      "cell_type": "code",
      "source": [
        "#Set .add()\n",
        "\n",
        "n = int(input())\n",
        "cns = set()\n",
        "[cns.add(input()) for i in range(n)]\n",
        "print(len(cns))\n"
      ],
      "metadata": {
        "id": "ChBiEMDxr5ta"
      },
      "execution_count": null,
      "outputs": []
    },
    {
      "cell_type": "code",
      "source": [
        "#Set .union() Operation\n",
        "\n",
        "n = int(input())\n",
        "english = set(map(int, input().split()[:n]))\n",
        "b = int(input())\n",
        "french = list(map(int, input().split()[:b]))\n",
        "count = 0\n",
        "unione = english.union(french)\n",
        "count = 0\n",
        "for i in unione:\n",
        "    count +=1\n",
        "print(count)"
      ],
      "metadata": {
        "id": "cjphl4jRsA1f"
      },
      "execution_count": null,
      "outputs": []
    },
    {
      "cell_type": "code",
      "source": [
        "#Set .intersection() Operation\n",
        "\n",
        "n = int(input())\n",
        "english = set(map(int, input().split()[:n]))\n",
        "b = int(input())\n",
        "french = set(map(int, input().split()[:b]))\n",
        "intersection = english.intersection(french)\n",
        "count = 0\n",
        "for i in intersection:\n",
        "    count += 1\n",
        "\n",
        "print(count)\n",
        "\n"
      ],
      "metadata": {
        "id": "VU3RLsFosMh-"
      },
      "execution_count": null,
      "outputs": []
    },
    {
      "cell_type": "code",
      "source": [
        "#Set .difference() Operation\n",
        "\n",
        "n = int(input())\n",
        "english = set(map(int, input().split()[:n]))\n",
        "b = int(input())\n",
        "french = set(map(int, input().split()[:b]))\n",
        "difference = english - french\n",
        "count = 0\n",
        "for i in difference:\n",
        "    count +=1\n",
        "\n",
        "print(count)"
      ],
      "metadata": {
        "id": "QYlMe4n5sQTS"
      },
      "execution_count": null,
      "outputs": []
    },
    {
      "cell_type": "code",
      "source": [
        "#Set .symmetric_difference() Operation\n",
        "\n",
        "n = int(input())\n",
        "english = set(map(int, input().split()[:n]))\n",
        "b = int(input())\n",
        "french = set(map(int, input().split()[:b]))\n",
        "sym_diff = english^french\n",
        "count = 0\n",
        "for i in sym_diff:\n",
        "    count +=1\n",
        "\n",
        "print(count)\n"
      ],
      "metadata": {
        "id": "jKAAHv_csU-5"
      },
      "execution_count": null,
      "outputs": []
    },
    {
      "cell_type": "code",
      "source": [
        "#Set Mutations\n",
        "\n",
        "n = int(input())\n",
        "A = set(map(int, input().split()[:n]))\n",
        "N = int(input())\n",
        "for i in range(N):\n",
        "    operation = input().split()\n",
        "    sets = set(map(int, input().split()))\n",
        "    if operation[0] == \"intersection_update\":\n",
        "        A.intersection_update(sets)\n",
        "    if operation[0] == \"update\":\n",
        "        A.update(sets)\n",
        "    if operation[0] == \"symmetric_difference_update\":\n",
        "        A.symmetric_difference_update(sets)\n",
        "    if operation[0] == \"difference_update\":\n",
        "        A.difference_update(sets)\n",
        "\n",
        "print(sum(A))\n"
      ],
      "metadata": {
        "id": "WxtRgd0lsZ5c"
      },
      "execution_count": null,
      "outputs": []
    },
    {
      "cell_type": "code",
      "source": [
        "#The Captain's Room\n",
        "\n",
        "K = int(input())\n",
        "rooms = list(map(int, input().split()))\n",
        "rooms_set = set(rooms)\n",
        "for i in rooms_set:\n",
        "    rooms.remove(i)\n",
        "    if i not in rooms:\n",
        "        print(i)"
      ],
      "metadata": {
        "id": "EZaro6OjseFy"
      },
      "execution_count": null,
      "outputs": []
    },
    {
      "cell_type": "code",
      "source": [
        "#Set .discard(), .remove() & .pop()\n",
        "\n",
        "n = int(input())\n",
        "s = set(map(int, input().split()))\n",
        "N = int(input())\n",
        "for _ in range(N):\n",
        "    command = input().split()\n",
        "    if command[0] == \"pop\":\n",
        "        s.pop()\n",
        "    if command[0] == \"discard\":\n",
        "        s.discard(int(command[1]))\n",
        "    if command[0] == \"remove\":\n",
        "        s.remove(int(command[1]))\n",
        "\n",
        "print(sum(s))"
      ],
      "metadata": {
        "id": "S2URX6j4siaU"
      },
      "execution_count": null,
      "outputs": []
    },
    {
      "cell_type": "code",
      "source": [
        "#Check Subset\n",
        "\n",
        "T = int(input())\n",
        "for cases in range(T):\n",
        "    n_A = int(input())\n",
        "    A = set(map(int, input().split()))\n",
        "    n_B = int(input())\n",
        "    B = set(map(int, input().split()))\n",
        "\n",
        "    if A.issubset(B):\n",
        "        print(True)\n",
        "    else:\n",
        "        print(False)\n"
      ],
      "metadata": {
        "id": "Lcn9oEj6spaB"
      },
      "execution_count": null,
      "outputs": []
    },
    {
      "cell_type": "code",
      "source": [
        "#Check Strict Superset\n",
        "\n",
        "A = set(map(int,input().split()))\n",
        "n = int(input())\n",
        "result = True\n",
        "for i in range(n):\n",
        "    N = set(map(int, input().split()))\n",
        "    if not A.issuperset(N):\n",
        "        result = False\n",
        "        break\n",
        "\n",
        "print(result)\n"
      ],
      "metadata": {
        "id": "v0grXFCPstPg"
      },
      "execution_count": null,
      "outputs": []
    },
    {
      "cell_type": "code",
      "source": [
        "#collections.Counter()\n",
        "\n",
        "from collections import Counter\n",
        "\n",
        "X = int(input())\n",
        "sizes = Counter(map(int,input().split()))\n",
        "N = int(input())\n",
        "money = 0\n",
        "for i in range(N):\n",
        "    size, price = map(int, input().split())\n",
        "    if sizes.get(size, 0) > 0:\n",
        "        sizes[size] -= 1\n",
        "        money += price\n",
        "        if sizes[size] == 0:\n",
        "            del sizes[size]\n",
        "print(money)\n"
      ],
      "metadata": {
        "id": "DyOsDbKGs1Ej"
      },
      "execution_count": null,
      "outputs": []
    },
    {
      "cell_type": "code",
      "source": [
        "#DefaultDict Tutorial\n",
        "\n",
        "from collections import defaultdict\n",
        "\n",
        "n, m = map(int,input().split())\n",
        "A = [str(input()) for i in range(n)]\n",
        "B = [str(input()) for j in range(m)]\n",
        "res = defaultdict(list)\n",
        "\n",
        "D = list(enumerate(A))\n",
        "\n",
        "for _ in D:\n",
        "    res[_[1]].append(_[0]+1)\n",
        "for x in B:\n",
        "    if x in A:\n",
        "        print(*res[x])\n",
        "    else:\n",
        "        print(-1)\n"
      ],
      "metadata": {
        "id": "K_CNzh6is12d"
      },
      "execution_count": null,
      "outputs": []
    },
    {
      "cell_type": "code",
      "source": [
        "#Collections.namedtuple()\n",
        "\n",
        "from collections import namedtuple\n",
        "N = int(input())\n",
        "columns = input().split()\n",
        "students = namedtuple('students', columns)\n",
        "marks = []\n",
        "for i in range(N):\n",
        "    data = input().split()\n",
        "    students_2 = students(*data)\n",
        "    marks.append(int(students_2.MARKS))\n",
        "\n",
        "avg = sum(marks)/len(marks)\n",
        "print(f\"{avg:.2f}\")"
      ],
      "metadata": {
        "id": "bXxsWv5Is74k"
      },
      "execution_count": null,
      "outputs": []
    },
    {
      "cell_type": "code",
      "source": [
        "#Collections.OrderedDict()\n",
        "\n",
        "from collections import OrderedDict\n",
        "N = int(input())\n",
        "dictionary = OrderedDict()\n",
        "for i in range(N):\n",
        "    item, price = input().rsplit(' ',1)\n",
        "    if item in dictionary:\n",
        "        dictionary[item] += int(price)\n",
        "    else:\n",
        "        dictionary[item] = int(price)\n",
        "\n",
        "for item, price in dictionary.items():\n",
        "    print(f\"{item} {price}\")\n"
      ],
      "metadata": {
        "id": "5WhGPM81tAf4"
      },
      "execution_count": null,
      "outputs": []
    },
    {
      "cell_type": "code",
      "source": [
        "#Text Alignment\n",
        "\n",
        "#Replace all ______ with rjust, ljust or center.\n",
        "\n",
        "thickness = int(input()) #This must be an odd number\n",
        "c = 'H'\n",
        "\n",
        "#Top Cone\n",
        "for i in range(thickness):\n",
        "    print((c*i).rjust(thickness-1)+c+(c*i).ljust(thickness-1))\n",
        "\n",
        "#Top Pillars\n",
        "for i in range(thickness+1):\n",
        "    print((c*thickness).center(thickness*2)+(c*thickness).center(thickness*6))\n",
        "\n",
        "#Middle Belt\n",
        "for i in range((thickness+1)//2):\n",
        "    print((c*thickness*5).center(thickness*6))\n",
        "\n",
        "#Bottom Pillars\n",
        "for i in range(thickness+1):\n",
        "    print((c*thickness).center(thickness*2)+(c*thickness).center(thickness*6))\n",
        "\n",
        "#Bottom Cone\n",
        "for i in range(thickness):\n",
        "    print(((c*(thickness-i-1)).rjust(thickness)+c+(c*(thickness-i-1)).ljust(thickness)).rjust(thickness*6))"
      ],
      "metadata": {
        "id": "REPSaGTgtWy4"
      },
      "execution_count": null,
      "outputs": []
    },
    {
      "cell_type": "code",
      "source": [
        "#Designer Door Mat\n",
        "\n",
        "n, m = map(int, input().split())\n",
        "for i in range(1, n, 2):\n",
        "    pattern = (\".|.\" * i).center(m, \"-\")\n",
        "    print(pattern)\n",
        "\n",
        "print(\"WELCOME\".center(m, \"-\"))\n",
        "\n",
        "for i in range(n-2, 0 , -2):\n",
        "    pattern = (\".|.\" * i).center(m, \"-\")\n",
        "    print(pattern)"
      ],
      "metadata": {
        "id": "_SRDFg9xtbCy"
      },
      "execution_count": null,
      "outputs": []
    },
    {
      "cell_type": "code",
      "source": [
        "#Recursive Digit Sum\n",
        "\n",
        "#!/bin/python3\n",
        "\n",
        "import math\n",
        "import os\n",
        "import random\n",
        "import re\n",
        "import sys\n",
        "\n",
        "#\n",
        "# Complete the 'superDigit' function below.\n",
        "#\n",
        "# The function is expected to return an INTEGER.\n",
        "# The function accepts following parameters:\n",
        "#  1. STRING n\n",
        "#  2. INTEGER k\n",
        "#\n",
        "\n",
        "def superDigit(n, k):\n",
        "    tot = 0\n",
        "    p = str(sum(int(i) for i in str(n)))*k\n",
        "    for _ in p:\n",
        "        tot += int(_)\n",
        "    while len(str(tot)) != 1:\n",
        "        x = 0\n",
        "        for i in str(tot):\n",
        "            x +=int(i)\n",
        "        tot = x\n",
        "    return x\n",
        "\n",
        "\n",
        "\n",
        "\n",
        "\n",
        "\n",
        "if __name__ == '__main__':\n",
        "    fptr = open(os.environ['OUTPUT_PATH'], 'w')\n",
        "\n",
        "    first_multiple_input = input().rstrip().split()\n",
        "\n",
        "    n = first_multiple_input[0]\n",
        "\n",
        "    k = int(first_multiple_input[1])\n",
        "\n",
        "    result = superDigit(n, k)\n",
        "\n",
        "    fptr.write(str(result) + '\\n')\n",
        "\n",
        "    fptr.close()"
      ],
      "metadata": {
        "id": "dA3N1APttnTW"
      },
      "execution_count": null,
      "outputs": []
    },
    {
      "cell_type": "code",
      "source": [
        "#Word Order\n",
        "\n",
        "from collections import Counter\n",
        "\n",
        "n = int(input())\n",
        "words = [input() for i in range(n)]\n",
        "d_words = Counter(words)\n",
        "print(len(d_words))\n",
        "print(*d_words.values())"
      ],
      "metadata": {
        "id": "pZvdUPj4tutG"
      },
      "execution_count": null,
      "outputs": []
    },
    {
      "cell_type": "code",
      "source": [
        "#Collections.deque()\n",
        "\n",
        "from collections import deque\n",
        "N = int(input())\n",
        "d = deque()\n",
        "for i in range(N):\n",
        "    operation = input().split()\n",
        "    if operation[0] == \"append\":\n",
        "        d.append(operation[1])\n",
        "    if operation[0] == \"pop\":\n",
        "        d.pop()\n",
        "    if operation[0] == \"popleft\":\n",
        "        d.popleft()\n",
        "    if operation[0] == \"appendleft\":\n",
        "        d.appendleft(operation[1])\n",
        "\n",
        "print(*d)\n"
      ],
      "metadata": {
        "id": "i8WnTqUztzd8"
      },
      "execution_count": null,
      "outputs": []
    },
    {
      "cell_type": "code",
      "source": [
        "#Company Logo\n",
        "\n",
        "#!/bin/python3\n",
        "\n",
        "import math\n",
        "import os\n",
        "import random\n",
        "import re\n",
        "import sys\n",
        "\n",
        "\n",
        "\n",
        "if __name__ == '__main__':\n",
        "    s = sorted(input())\n",
        "\n",
        "from collections import Counter\n",
        "c = Counter(s).most_common(3)\n",
        "for key,value in c:\n",
        "    print(key, value)\n"
      ],
      "metadata": {
        "id": "9EPMb150t3dj"
      },
      "execution_count": null,
      "outputs": []
    },
    {
      "cell_type": "code",
      "source": [
        "#Calendar Module\n",
        "\n",
        "import calendar\n",
        "MM, DD, YYYY = map(int, input().split())\n",
        "print(calendar.day_name[calendar.weekday(YYYY, MM, DD)].upper())"
      ],
      "metadata": {
        "id": "Rl4Y9rt-t8Az"
      },
      "execution_count": null,
      "outputs": []
    },
    {
      "cell_type": "code",
      "source": [
        "#Exceptions\n",
        "\n",
        "T = int(input())\n",
        "for cases in range(T):\n",
        "    try:\n",
        "        a, b = map(int, input().split())\n",
        "        print(a//b)\n",
        "    except ZeroDivisionError as e:\n",
        "        print(\"Error Code:\", e)\n",
        "    except ValueError as i:\n",
        "        print(\"Error Code:\", i)"
      ],
      "metadata": {
        "id": "jGLUHVi7uFdo"
      },
      "execution_count": null,
      "outputs": []
    },
    {
      "cell_type": "code",
      "source": [
        "#Zipped!\n",
        "\n",
        "N, X = map(int, input().split())\n",
        "elements = [list(map(float, input().split())) for i in range(X)]\n",
        "for marks in zip(*elements):\n",
        "    average = sum(marks)/X\n",
        "    print(average)"
      ],
      "metadata": {
        "id": "8nrQWUg2uJDj"
      },
      "execution_count": null,
      "outputs": []
    },
    {
      "cell_type": "code",
      "source": [
        "#ginortS\n",
        "\n",
        "S = str(input())\n",
        "lower = []\n",
        "upper = []\n",
        "odd = []\n",
        "even = []\n",
        "for i in S:\n",
        "    if i.isdigit():\n",
        "        if int(i)%2 == 0:\n",
        "            even.append(i)\n",
        "        else:\n",
        "            odd.append(i)\n",
        "    elif i.isupper():\n",
        "        upper += i\n",
        "    elif i.islower():\n",
        "        lower += i\n",
        "\n",
        "lower = sorted(lower)\n",
        "upper = sorted(upper)\n",
        "odd = sorted(odd)\n",
        "even = sorted(even)\n",
        "\n",
        "final_result = print(''.join(lower+upper+odd+even))"
      ],
      "metadata": {
        "id": "h86CaT0ZuNuF"
      },
      "execution_count": null,
      "outputs": []
    },
    {
      "cell_type": "code",
      "source": [
        "#Map and Lambda Function\n",
        "\n",
        "cube = lambda x: x**3\n",
        "\n",
        "def fibonacci(n):\n",
        "    l = []\n",
        "    for i in range(n):\n",
        "        if i == 0 or i == 1:\n",
        "            l.append(i)\n",
        "        else:\n",
        "            x = l[i-1] + l[i-2]\n",
        "            l.append(x)\n",
        "    return l[:n]\n"
      ],
      "metadata": {
        "id": "o9Bl-9YjuRuA"
      },
      "execution_count": null,
      "outputs": []
    },
    {
      "cell_type": "code",
      "source": [
        "#Detect Floating Point Number\n",
        "\n",
        "import re\n",
        "T = int(input())\n",
        "regex = re.compile(r\"^[+-]?(0|[1-9]\\d*|)\\.\\d\\d*$\")\n",
        "for _ in range(T):\n",
        "    print(regex.match(input()) != None)\n"
      ],
      "metadata": {
        "id": "ba574ri6uZi_"
      },
      "execution_count": null,
      "outputs": []
    },
    {
      "cell_type": "code",
      "source": [
        "#Re.split()\n",
        "\n",
        "regex_pattern = r\"\\.|\\,\"\t# Do not delete 'r'."
      ],
      "metadata": {
        "id": "YTh6aTEEudR2"
      },
      "execution_count": null,
      "outputs": []
    },
    {
      "cell_type": "code",
      "source": [
        "#Group(), Groups() & Groupdict()\n",
        "\n",
        "import re\n",
        "S = input()\n",
        "pattern = r\"([a-zA-Z0-9])\\1+\"\n",
        "x = re.search(pattern,S)\n",
        "if x:\n",
        "    print(x.group(1))\n",
        "else:\n",
        "    print('-1')"
      ],
      "metadata": {
        "id": "1W7nS6TRuhp3"
      },
      "execution_count": null,
      "outputs": []
    },
    {
      "cell_type": "code",
      "source": [
        "#Standardize Mobile Number Using Decorators\n",
        "\n",
        "def wrapper(f):\n",
        "    def fun(l):\n",
        "        l = [\"+91\" + \" \" + i[-10:-5] + \" \" + i[-5:] for i in l]\n",
        "        return f(l)\n",
        "    return fun\n"
      ],
      "metadata": {
        "id": "oGILnaObukxB"
      },
      "execution_count": null,
      "outputs": []
    },
    {
      "cell_type": "code",
      "source": [
        "#Arrays\n",
        "\n",
        "def arrays(arr):\n",
        "    a = numpy.array(arr, float)\n",
        "    return a[::-1]\n"
      ],
      "metadata": {
        "id": "QdseGQymupuR"
      },
      "execution_count": null,
      "outputs": []
    },
    {
      "cell_type": "code",
      "source": [
        "#Shape and Reshape\n",
        "\n",
        "import numpy\n",
        "a = input().split()\n",
        "arr = numpy.array(a, int)\n",
        "print(numpy.reshape(arr, (3,3)))"
      ],
      "metadata": {
        "id": "UPxx5Fftu3SC"
      },
      "execution_count": null,
      "outputs": []
    },
    {
      "cell_type": "code",
      "source": [
        "#Transpose and Flatten\n",
        "\n",
        "import numpy\n",
        "N,M = map(int,input().split())\n",
        "arr = [input().split() for rows in range(N)]\n",
        "arr2 = numpy.array(arr, int)\n",
        "print(numpy.transpose(arr2))\n",
        "print(arr2.flatten())"
      ],
      "metadata": {
        "id": "myj8H95Du6nj"
      },
      "execution_count": null,
      "outputs": []
    },
    {
      "cell_type": "code",
      "source": [
        "#Concatenate\n",
        "\n",
        "import numpy\n",
        "N,M,P = map(int, input().split())\n",
        "arr1 = [input().split() for i in range(N)]\n",
        "arr2 = [input().split() for j in range(M)]\n",
        "arr12 = numpy.array(arr1, int)\n",
        "arr21 = numpy.array(arr2, int)\n",
        "print(numpy.concatenate((arr12, arr21), axis = 0))"
      ],
      "metadata": {
        "id": "XD0U87Ocu-xg"
      },
      "execution_count": null,
      "outputs": []
    },
    {
      "cell_type": "code",
      "source": [
        "#Zeros and Ones\n",
        "\n",
        "import numpy\n",
        "D = list(map(int, input().split()))\n",
        "\n",
        "\n",
        "print(numpy.zeros((D), dtype = int))\n",
        "\n",
        "\n",
        "print(numpy.ones((D), dtype = int))"
      ],
      "metadata": {
        "id": "haXJ7YjCvCer"
      },
      "execution_count": null,
      "outputs": []
    },
    {
      "cell_type": "code",
      "source": [
        "#Eye and Identity\n",
        "\n",
        "import numpy\n",
        "numpy.set_printoptions(legacy='1.13')\n",
        "N, M = map(int, input().split())\n",
        "print(numpy.eye(N, M, k=0))"
      ],
      "metadata": {
        "id": "4IusN26YvGPp"
      },
      "execution_count": null,
      "outputs": []
    },
    {
      "cell_type": "code",
      "source": [
        "#Array Mathematics\n",
        "\n",
        "import numpy\n",
        "N, M = map(int, input().split())\n",
        "a = [input().split() for i in range(N)]\n",
        "b = [input().split() for j in range(N)]\n",
        "a1 = numpy.array(a, int)\n",
        "b1 = numpy.array(b, int)\n",
        "print(a1+b1)\n",
        "print(a1-b1)\n",
        "print(a1*b1)\n",
        "print(a1//b1)\n",
        "print(a1%b1)\n",
        "print(a1**b1)"
      ],
      "metadata": {
        "id": "C91E8bC9vLTV"
      },
      "execution_count": null,
      "outputs": []
    },
    {
      "cell_type": "code",
      "source": [
        "#Floor, Ceil and Rint\n",
        "\n",
        "import numpy\n",
        "numpy.set_printoptions(legacy='1.13')\n",
        "A = list(map(float,input().split()))\n",
        "arr = numpy.array(A)\n",
        "print(numpy.floor(arr))\n",
        "print(numpy.ceil(arr))\n",
        "print(numpy.rint(arr))"
      ],
      "metadata": {
        "id": "WeXrb1dTvO7E"
      },
      "execution_count": null,
      "outputs": []
    },
    {
      "cell_type": "code",
      "source": [
        "#Sum and Prod\n",
        "\n",
        "import numpy\n",
        "N, M = map(int, input().split())\n",
        "A = [input().split() for i in range(N)]\n",
        "arr = numpy.array(A, int)\n",
        "somma = numpy.sum(arr, axis = 0)\n",
        "print(numpy.prod(somma, axis = 0))"
      ],
      "metadata": {
        "id": "QcSleCQbvSxW"
      },
      "execution_count": null,
      "outputs": []
    },
    {
      "cell_type": "code",
      "source": [
        "#Min and Max\n",
        "\n",
        "import numpy\n",
        "N, M = map(int, input().split())\n",
        "A = [input().split() for i in range(N)]\n",
        "arr = numpy.array(A, int)\n",
        "minimum = numpy.min(arr, axis = 1)\n",
        "print(numpy.max(minimum))"
      ],
      "metadata": {
        "id": "ixSC0k-OvXl5"
      },
      "execution_count": null,
      "outputs": []
    },
    {
      "cell_type": "code",
      "source": [
        "#Mean, Var, and Std\n",
        "\n",
        "import numpy\n",
        "N, M = map(int, input().split())\n",
        "A = [input().split() for i in range(N)]\n",
        "arr = numpy.array(A, int)\n",
        "print(numpy.mean(arr, axis=1))\n",
        "print(numpy.var(arr, axis=0))\n",
        "print(round(numpy.std(arr),11))"
      ],
      "metadata": {
        "id": "ZcZBR5B0vbS5"
      },
      "execution_count": null,
      "outputs": []
    },
    {
      "cell_type": "code",
      "source": [
        "#Dot and Cross\n",
        "\n",
        "import numpy\n",
        "N = int(input())\n",
        "a = [input().split() for i in range(N)]\n",
        "b = [input().split() for j in range(N)]\n",
        "A = numpy.array(a, int)\n",
        "B = numpy.array(b, int)\n",
        "print(numpy.dot(A,B))"
      ],
      "metadata": {
        "id": "LhEYyRDovfLO"
      },
      "execution_count": null,
      "outputs": []
    },
    {
      "cell_type": "code",
      "source": [
        "#Inner and Outer\n",
        "\n",
        "import numpy\n",
        "A = numpy.array(input().split(), int)\n",
        "B = numpy.array(input().split(), int)\n",
        "print(numpy.inner(A,B))\n",
        "print(numpy.outer(A,B))\n"
      ],
      "metadata": {
        "id": "E0N_DRwmvj-M"
      },
      "execution_count": null,
      "outputs": []
    },
    {
      "cell_type": "code",
      "source": [
        "#Polynomials\n",
        "\n",
        "import numpy\n",
        "P = input().split()\n",
        "arr = numpy.array(P, float)\n",
        "x = int(input())\n",
        "print(numpy.polyval(arr, x))\n"
      ],
      "metadata": {
        "id": "BDockyj5vqss"
      },
      "execution_count": null,
      "outputs": []
    },
    {
      "cell_type": "code",
      "source": [
        "#Linear Algebra\n",
        "\n",
        "import numpy\n",
        "N = int(input())\n",
        "A = [input().split() for i in range(N)]\n",
        "arr = numpy.array(A, float)\n",
        "print(round(numpy.linalg.det(arr),2))"
      ],
      "metadata": {
        "id": "suU9Msu-v0xa"
      },
      "execution_count": null,
      "outputs": []
    },
    {
      "cell_type": "code",
      "source": [
        "#Birthday Cake Candles\n",
        "\n",
        "#!/bin/python3\n",
        "\n",
        "import math\n",
        "import os\n",
        "import random\n",
        "import re\n",
        "import sys\n",
        "\n",
        "#\n",
        "# Complete the 'birthdayCakeCandles' function below.\n",
        "#\n",
        "# The function is expected to return an INTEGER.\n",
        "# The function accepts INTEGER_ARRAY candles as parameter.\n",
        "#\n",
        "\n",
        "def birthdayCakeCandles(candles):\n",
        "    return candles.count(max(candles))\n",
        "\n",
        "if __name__ == '__main__':\n",
        "    fptr = open(os.environ['OUTPUT_PATH'], 'w')\n",
        "\n",
        "    candles_count = int(input().strip())\n",
        "\n",
        "    candles = list(map(int, input().rstrip().split()))\n",
        "\n",
        "    result = birthdayCakeCandles(candles)\n",
        "\n",
        "    fptr.write(str(result) + '\\n')\n",
        "\n",
        "    fptr.close()\n"
      ],
      "metadata": {
        "id": "DJD-merev4OU"
      },
      "execution_count": null,
      "outputs": []
    },
    {
      "cell_type": "code",
      "source": [
        "#Viral Advertising\n",
        "\n",
        "#!/bin/python3\n",
        "\n",
        "import math\n",
        "import os\n",
        "import random\n",
        "import re\n",
        "import sys\n",
        "\n",
        "#\n",
        "# Complete the 'viralAdvertising' function below.\n",
        "#\n",
        "# The function is expected to return an INTEGER.\n",
        "# The function accepts INTEGER n as parameter.\n",
        "#\n",
        "\n",
        "def viralAdvertising(n):\n",
        "    total = 0\n",
        "    k = 5//2\n",
        "    for i in range(n):\n",
        "        total = total + k\n",
        "        k = (k*3)//2\n",
        "\n",
        "    return total\n",
        "\n",
        "\n",
        "\n",
        "if __name__ == '__main__':\n",
        "    fptr = open(os.environ['OUTPUT_PATH'], 'w')\n",
        "\n",
        "    n = int(input().strip())\n",
        "\n",
        "    result = viralAdvertising(n)\n",
        "\n",
        "    fptr.write(str(result) + '\\n')\n",
        "\n",
        "    fptr.close()"
      ],
      "metadata": {
        "id": "1H_EKExFv8Z0"
      },
      "execution_count": null,
      "outputs": []
    },
    {
      "cell_type": "code",
      "source": [
        "#Re.findall() & Re.finditer()\n",
        "\n",
        "import re\n",
        "S = input()\n",
        "p = r'(?<=[bcdfghjklmnpqrstvwxyz])[aeiou]{2,}(?=[bcdfghjklmnpqrstvwxyz])'\n",
        "m = re.findall(p, S, re.IGNORECASE)\n",
        "if m:\n",
        "    print('\\n'.join(m))\n",
        "else:\n",
        "    print('-1')"
      ],
      "metadata": {
        "id": "OhYcukXNwAFa"
      },
      "execution_count": null,
      "outputs": []
    },
    {
      "cell_type": "code",
      "source": [
        "#XML 1 - Find the Score\n",
        "\n",
        "def get_attr_number(node):\n",
        "    total = 0\n",
        "    for child in node.iter():\n",
        "        total += int(len(child.attrib))\n",
        "    return total\n"
      ],
      "metadata": {
        "id": "QG6jhFxIwDc6"
      },
      "execution_count": null,
      "outputs": []
    },
    {
      "cell_type": "code",
      "source": [
        "#XML2 - Find the Maximum Depth\n",
        "\n",
        "maxdepth = 0\n",
        "def depth(elem, level):\n",
        "    global maxdepth\n",
        "    [depth(e,level+1) for e in elem]\n",
        "    maxdepth = max(maxdepth, level + 1)\n"
      ],
      "metadata": {
        "id": "mBTvfM3owG0R"
      },
      "execution_count": null,
      "outputs": []
    },
    {
      "cell_type": "code",
      "source": [
        "#Re.start() & Re.end()\n",
        "\n",
        "import re\n",
        "s = input()\n",
        "k = input()\n",
        "m = list(re.finditer(f'(?={re.escape(k)})',s))\n",
        "if not k:\n",
        "    print((-1,-1))\n",
        "else:\n",
        "    if m:\n",
        "        for i in m:\n",
        "            print((i.start(),i.start()+len(k)-1))\n",
        "    else:\n",
        "        print((-1,-1))"
      ],
      "metadata": {
        "id": "Hz3lrwMYwKfF"
      },
      "execution_count": null,
      "outputs": []
    },
    {
      "cell_type": "code",
      "source": [
        "#Regex Substitution\n",
        "\n",
        "import re\n",
        "n = int(input())\n",
        "for _ in range(n):\n",
        "    print(re.sub(r\"(?<= )\\|\\|(?= )\", \"or\", re.sub(r\"(?<= )&&(?= )\", \"and\", input())))"
      ],
      "metadata": {
        "id": "xoFiJCRYwPsW"
      },
      "execution_count": null,
      "outputs": []
    },
    {
      "cell_type": "code",
      "source": [
        "#Validating Roman Numerals\n",
        "\n",
        "regex_pattern = r\"^(M){0,3}(CM)?(CD|D)?(C){0,3}(XC)?(XL|L)?(X){0,3}(IX)?(IV|V)?(I){0,3}$\"\t# Do not delete 'r'."
      ],
      "metadata": {
        "id": "H_c2m1DhwT3m"
      },
      "execution_count": null,
      "outputs": []
    },
    {
      "cell_type": "code",
      "source": [
        "#Insertion Sort - Part 1\n",
        "\n",
        "#!/bin/python3\n",
        "\n",
        "import math\n",
        "import os\n",
        "import random\n",
        "import re\n",
        "import sys\n",
        "\n",
        "#\n",
        "# Complete the 'insertionSort1' function below.\n",
        "#\n",
        "# The function accepts following parameters:\n",
        "#  1. INTEGER n\n",
        "#  2. INTEGER_ARRAY arr\n",
        "#\n",
        "\n",
        "def insertionSort1(n, arr):\n",
        "    x = arr[-1]\n",
        "    i = n - 2\n",
        "    while i >= 0 and arr[i] > x:\n",
        "        arr[i + 1] = arr[i]\n",
        "        print(*arr)\n",
        "        i -= 1\n",
        "\n",
        "    arr[i + 1] = x\n",
        "    print(*arr)\n",
        "\n",
        "if __name__ == '__main__':\n",
        "    n = int(input().strip())\n",
        "\n",
        "    arr = list(map(int, input().rstrip().split()))\n",
        "\n",
        "    insertionSort1(n, arr)"
      ],
      "metadata": {
        "id": "tCQ4smhIwXoA"
      },
      "execution_count": null,
      "outputs": []
    },
    {
      "cell_type": "code",
      "source": [
        "#Insertion Sort - Part 2\n",
        "\n",
        "#!/bin/python3\n",
        "\n",
        "import math\n",
        "import os\n",
        "import random\n",
        "import re\n",
        "import sys\n",
        "\n",
        "#\n",
        "# Complete the 'insertionSort2' function below.\n",
        "#\n",
        "# The function accepts following parameters:\n",
        "#  1. INTEGER n\n",
        "#  2. INTEGER_ARRAY arr\n",
        "#\n",
        "\n",
        "def insertionSort2(n, arr):\n",
        "    for i in range(1,n):\n",
        "        x = arr[i]\n",
        "        j = i - 1\n",
        "        while j >= 0 and arr[j] > x:\n",
        "            arr[j + 1] = arr[j]\n",
        "            j -= 1\n",
        "\n",
        "        arr[j + 1] = x\n",
        "        print(*arr)\n",
        "\n",
        "if __name__ == '__main__':\n",
        "    n = int(input().strip())\n",
        "\n",
        "    arr = list(map(int, input().rstrip().split()))\n",
        "\n",
        "    insertionSort2(n, arr)"
      ],
      "metadata": {
        "id": "fmsr98NDwa8r"
      },
      "execution_count": null,
      "outputs": []
    },
    {
      "cell_type": "code",
      "source": [
        "#Number Line Jumps\n",
        "\n",
        "#!/bin/python3\n",
        "\n",
        "import math\n",
        "import os\n",
        "import random\n",
        "import re\n",
        "import sys\n",
        "\n",
        "#\n",
        "# Complete the 'kangaroo' function below.\n",
        "#\n",
        "# The function is expected to return a STRING.\n",
        "# The function accepts following parameters:\n",
        "#  1. INTEGER x1\n",
        "#  2. INTEGER v1\n",
        "#  3. INTEGER x2\n",
        "#  4. INTEGER v2\n",
        "#\n",
        "\n",
        "def kangaroo(x1, v1, x2, v2):\n",
        "    if v1 == v2:\n",
        "        if x1 == x2:\n",
        "            return \"YES\"\n",
        "        else:\n",
        "            return \"NO\"\n",
        "\n",
        "    if (x2-x1)%(v1-v2) == 0 and (x2-x1)/(v1-v2) > 0:\n",
        "        return \"YES\"\n",
        "    else:\n",
        "        return \"NO\"\n",
        "\n",
        "if __name__ == '__main__':\n",
        "    fptr = open(os.environ['OUTPUT_PATH'], 'w')\n",
        "\n",
        "    first_multiple_input = input().rstrip().split()\n",
        "\n",
        "    x1 = int(first_multiple_input[0])\n",
        "\n",
        "    v1 = int(first_multiple_input[1])\n",
        "\n",
        "    x2 = int(first_multiple_input[2])\n",
        "\n",
        "    v2 = int(first_multiple_input[3])\n",
        "\n",
        "    result = kangaroo(x1, v1, x2, v2)\n",
        "\n",
        "    fptr.write(result + '\\n')\n",
        "\n",
        "    fptr.close()"
      ],
      "metadata": {
        "id": "z1eG3mJ4weSL"
      },
      "execution_count": null,
      "outputs": []
    },
    {
      "cell_type": "code",
      "source": [
        "#Decorators 2 - Name Directory\n",
        "\n",
        "from operator import itemgetter\n",
        "from itertools import groupby\n",
        "\n",
        "def person_lister(f):\n",
        "    def inner(people):\n",
        "        people_sorted = sorted(people, key = lambda x: int(x[2]))\n",
        "        return [f(person) for person in people_sorted]\n",
        "    return inner\n"
      ],
      "metadata": {
        "id": "hWjxBMgrwxLD"
      },
      "execution_count": null,
      "outputs": []
    }
  ]
}